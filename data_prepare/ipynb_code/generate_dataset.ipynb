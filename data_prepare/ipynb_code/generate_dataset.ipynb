{
 "cells": [
  {
   "cell_type": "markdown",
   "metadata": {},
   "source": [
    "#  Generate dataset by spliting the satellite image using ImageSampler"
   ]
  },
  {
   "cell_type": "code",
   "execution_count": 2,
   "metadata": {},
   "outputs": [],
   "source": [
    "from PIL import Image, ImageFile\n",
    "import cv2\n",
    "import numpy as np\n",
    "import pickle\n",
    "from tqdm import tqdm\n",
    "import sys\n",
    "sys.path.append(\"../\")\n",
    "from image_sampler import ImageSampler\n",
    "Image.MAX_IMAGE_PIXELS = None # Disable DecompressionBombError\n",
    "ImageFile.LOAD_TRUNCATED_IMAGES = True # Disable OSError: image file is truncated"
   ]
  },
  {
   "cell_type": "code",
   "execution_count": 3,
   "metadata": {},
   "outputs": [],
   "source": [
    "#Nanshan district\n",
    "train_path = \"../../datasets/dataset_original/train.png\"\n",
    "test_path = \"../../datasets/dataset_original/test.png\"\n",
    "mask_path = \"../../datasets/ns_road_nofootpath_T.png\"\n",
    "taxi_gps_path = \"../../datasets/GPS_data/taxi/GPS_taxi_2.0.pkl\"\n",
    "bus_gps_path = \"../../datasets/GPS_data/bus/GPS_bus_2.0.pkl\"\n",
    "\n",
    "# train_path = \"../Datasets/test_6/22.520000-113.920000.png\"\n",
    "# test_path = \"../Datasets/test_6/22.520000-113.920000.png\"\n",
    "# mask_path = \"../Datasets/test_6/22.520000-113.920000.png\"\n",
    "# taxi_gps_path = \"../Datasets/GPS_data/test.pkl\"\n",
    "# bus_gps_path = \"../Datasets/GPS_data/test.pkl\""
   ]
  },
  {
   "cell_type": "code",
   "execution_count": 4,
   "metadata": {},
   "outputs": [],
   "source": [
    "train_sat_img = Image.open(train_path)\n",
    "train_sat_img = cv2.cvtColor(np.array(train_sat_img), cv2.COLOR_RGBA2BGRA)\n",
    "test_sat_img = Image.open(test_path)\n",
    "test_sat_img = cv2.cvtColor(np.array(test_sat_img), cv2.COLOR_RGBA2BGRA)\n",
    "mask_img = Image.open(mask_path)\n",
    "mask_img = cv2.cvtColor(np.array(mask_img), cv2.COLOR_RGBA2BGRA)\n",
    "with open(taxi_gps_path, 'rb') as f:\n",
    "        taxi_gps = pickle.load(f, encoding='bytes')\n",
    "with open(bus_gps_path, 'rb') as f:\n",
    "        bus_gps = pickle.load(f, encoding='bytes')"
   ]
  },
  {
   "cell_type": "code",
   "execution_count": 5,
   "metadata": {},
   "outputs": [],
   "source": [
    "def _read_gps_data (big_gps, coordinate_ranges):\n",
    "        \"\"\"\n",
    "        return GPS data by coordinate ranges,\n",
    "        return geographphical coordinate GPS and pixel coordinate GPS.\n",
    "        \"\"\"\n",
    "        gps_data = []\n",
    "        gps_data_pixel = []\n",
    "        for coordinate_range in coordinate_ranges:\n",
    "            #坐标筛选\n",
    "            selected_rows = big_gps[(big_gps['lon'].between(coordinate_range[0][0], coordinate_range[1][0])) & (big_gps['lat'].between(coordinate_range[1][1], coordinate_range[0][1]))]\n",
    "            gps_data.append(selected_rows)\n",
    "            #转换为图片上的像素坐标,\"+0.5\"做到四舍五入\n",
    "            #对GPS数据的经纬度坐标进行了筛选和转换，使其能够对应到图片上的像素坐标\n",
    "            pixel_rows = selected_rows.copy()\n",
    "            pixel_rows['lon'] = ((selected_rows['lon'] - coordinate_range[0][0]) / (coordinate_range[1][0] - coordinate_range[0][0]) * 1024 + 0.5).astype(int)\n",
    "            pixel_rows['lat'] = ((coordinate_range[0][1] - selected_rows['lat']) / (coordinate_range[0][1] - coordinate_range[1][1]) * 1024 + 0.5).astype(int)\n",
    "            gps_data_pixel.append(pixel_rows)\n",
    "        return gps_data, gps_data_pixel"
   ]
  },
  {
   "cell_type": "code",
   "execution_count": 6,
   "metadata": {},
   "outputs": [],
   "source": [
    "import pandas as pd\n",
    "pd.options.mode.chained_assignment = None  # Suppress the warning\n",
    "\n",
    "train_sam = ImageSampler(train_sat_img, mask_img, \"train\")\n",
    "train_sat_imgs, train_mask_imgs, train_coors, train_indexes = train_sam.images_sample()\n",
    "\n",
    "test_sam = ImageSampler(test_sat_img, mask_img, \"test\")\n",
    "test_sat_imgs, test_mask_imgs, test_coors, test_indexes = test_sam.images_sample()"
   ]
  },
  {
   "cell_type": "code",
   "execution_count": 7,
   "metadata": {},
   "outputs": [],
   "source": [
    "#geographical coordinate and pixel coordinate\n",
    "train_gps_data, train_gps_data_pixel = _read_gps_data(taxi_gps, train_coors)\n",
    "test_gps_data, test_gps_data_pixel = _read_gps_data(taxi_gps, test_coors)\n",
    "train_gps_data_bus, train_gps_data_bus_pixel = _read_gps_data(bus_gps, train_coors)\n",
    "test_gps_data_bus, test_gps_data_bus_pixel = _read_gps_data(bus_gps, test_coors)"
   ]
  },
  {
   "cell_type": "code",
   "execution_count": null,
   "metadata": {},
   "outputs": [
    {
     "name": "stderr",
     "output_type": "stream",
     "text": [
      "saving train dataset: 100%|██████████| 66/66 [04:22<00:00,  3.98s/it]\n",
      "saving test dataset: 100%|██████████| 33/33 [01:25<00:00,  2.60s/it]\n"
     ]
    }
   ],
   "source": [
    "#Save data. The image name is row_col_sat.png, row_col_mask.png, row_col_gps.txt, row_col_gps.pkl\n",
    "iterater = tqdm(range(len(train_sat_imgs)))\n",
    "for i in iterater:\n",
    "    iterater.set_description_str(\"saving train dataset\")\n",
    "    row = train_indexes[i][0]\n",
    "    col = train_indexes[i][1]\n",
    "    train_coor_range = {\n",
    "        \"west\": train_coors[i][0][0],\n",
    "        \"east\": train_coors[i][1][0],\n",
    "        \"north\": train_coors[i][0][1],\n",
    "        \"south\": train_coors[i][1][1]\n",
    "    }\n",
    "    #卫星图像数据\n",
    "    cv2.imwrite(f\"../../datasets/dataset_template_copy/train_val/image/{row}_{col}_sat.png\", train_sat_imgs[i])\n",
    "    #路网数据\n",
    "    cv2.imwrite(f\"../../datasets/dataset_template_copy/train_val/road_network/{row}_{col}_road.png\", train_mask_imgs[i])\n",
    "    #坐标数据\n",
    "    with open(f'../../datasets/dataset_template_copy/coordinates/{row}_{col}_gps.txt', 'w') as f:\n",
    "        f.write(f\"{train_coor_range}\")\n",
    "    #taxi数据\n",
    "    with open(f'../../datasets/dataset_template_copy/GPS/taxi/{row}_{col}_gps.pkl', 'wb') as f:\n",
    "        pickle.dump(train_gps_data[i], f)\n",
    "    #bus数据\n",
    "    with open(f'../../datasets/dataset_template_copy/GPS/bus/{row}_{col}_gps.pkl', 'wb') as f:\n",
    "        pickle.dump(train_gps_data_bus[i], f)\n",
    "    #pixel coordinate version\n",
    "    with open(f'../../datasets/dataset_template_copy/GPS/taxi_pixel/{row}_{col}_gps.pkl', 'wb') as f:\n",
    "        pickle.dump(train_gps_data_pixel[i], f)\n",
    "    with open(f'../../datasets/dataset_template_copy/GPS/bus_pixel/{row}_{col}_gps.pkl', 'wb') as f:\n",
    "        pickle.dump(train_gps_data_bus_pixel[i], f)\n",
    "\n",
    "iter = tqdm(range(len(test_sat_imgs)))\n",
    "for i in iter:\n",
    "    iter.set_description_str(\"saving test dataset\")\n",
    "    #because the train sat and test sat are two images, so the row and col number maybe repetition\n",
    "    row = test_indexes[i][0] + 2000\n",
    "    col = test_indexes[i][1] + 2000\n",
    "    test_coor_range = {\n",
    "        \"west\": test_coors[i][0][0],\n",
    "        \"east\": test_coors[i][1][0],\n",
    "        \"north\": test_coors[i][0][1],\n",
    "        \"south\": test_coors[i][1][1]\n",
    "    }\n",
    "    cv2.imwrite(f\"../../datasets/dataset_template_copy/test/image_test/{row}_{col}_sat.png\", test_sat_imgs[i])\n",
    "    cv2.imwrite(f\"../../datasets/dataset_template_copy/test/road_network/{row}_{col}_road.png\", test_mask_imgs[i])\n",
    "    #坐标数据\n",
    "    with open(f'../../datasets/dataset_template_copy/coordinates/{row}_{col}_gps.txt', 'w') as f:\n",
    "        f.write(f\"{test_coor_range}\")\n",
    "    #taxi数据\n",
    "    with open(f'../../datasets/dataset_template_copy/GPS/taxi/{row}_{col}_gps.pkl', 'wb') as f:\n",
    "        pickle.dump(test_gps_data[i], f)\n",
    "    #bus数据\n",
    "    with open(f'../../datasets/dataset_template_copy/GPS/bus/{row}_{col}_gps.pkl', 'wb') as f:\n",
    "        pickle.dump(test_gps_data_bus[i], f)\n",
    "    #pixel coordinate version\n",
    "    with open(f'../../datasets/dataset_template_copy/GPS/taxi_pixel/{row}_{col}_gps.pkl', 'wb') as f:\n",
    "        pickle.dump(test_gps_data_pixel[i], f)\n",
    "    #bus数据\n",
    "    with open(f'../../datasets/dataset_template_copy/GPS/bus_pixel/{row}_{col}_gps.pkl', 'wb') as f:\n",
    "        pickle.dump(test_gps_data_bus_pixel[i], f)"
   ]
  },
  {
   "cell_type": "code",
   "execution_count": null,
   "metadata": {},
   "outputs": [],
   "source": []
  }
 ],
 "metadata": {
  "kernelspec": {
   "display_name": "base",
   "language": "python",
   "name": "python3"
  },
  "language_info": {
   "codemirror_mode": {
    "name": "ipython",
    "version": 3
   },
   "file_extension": ".py",
   "mimetype": "text/x-python",
   "name": "python",
   "nbconvert_exporter": "python",
   "pygments_lexer": "ipython3",
   "version": "3.12.4"
  },
  "orig_nbformat": 4
 },
 "nbformat": 4,
 "nbformat_minor": 2
}
