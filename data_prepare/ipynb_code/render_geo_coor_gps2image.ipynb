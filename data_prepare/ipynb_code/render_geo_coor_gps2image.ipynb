{
 "cells": [
  {
   "cell_type": "code",
   "execution_count": 7,
   "metadata": {},
   "outputs": [
    {
     "name": "stderr",
     "output_type": "stream",
     "text": [
      "0it [00:00, ?it/s]"
     ]
    },
    {
     "name": "stderr",
     "output_type": "stream",
     "text": [
      "83264it [00:14, 5627.11it/s]\n"
     ]
    },
    {
     "data": {
      "text/plain": [
       "True"
      ]
     },
     "execution_count": 7,
     "metadata": {},
     "output_type": "execute_result"
    }
   ],
   "source": [
    "import cv2\n",
    "import numpy as np\n",
    "import pandas as pd\n",
    "import os\n",
    "import pickle\n",
    "import sys\n",
    "sys.path.append('..')\n",
    "from coordinate_transform import wgs_to_gcj02_to_mercator\n",
    "from tqdm import tqdm\n",
    "\n",
    "\n",
    "# 示例GPS点数据，假设数据包含 'longitude' 和 'latitude' 列\n",
    "gps_path = \"../../datasets/dataset_sz_1024size/GPS/bus_long50_traj_wgs84_coor/0_24_gps.pkl\"\n",
    "with open(gps_path, 'rb') as f:\n",
    "    gps_df = pickle.load(f)\n",
    "\n",
    "# tile's coordinate bounds\n",
    "bounds_path = \"../../datasets/dataset_sz_1024size/coordinates/0_24_gps.txt\"\n",
    "with open(bounds_path, 'r') as f:\n",
    "    tile_bounds = eval(f.read())\n",
    "\n",
    "# 创建一个空白的1024x1024二值图像\n",
    "img_size = 1024\n",
    "binary_image = np.zeros((img_size, img_size), dtype=np.uint8)\n",
    "\n",
    "# 映射GPS点到图像坐标系\n",
    "for index, row in tqdm(gps_df.iterrows()):\n",
    "    # convert wgs84 to web mercator under gcj02\n",
    "    row['lon'], row['lat'] = wgs_to_gcj02_to_mercator(row['lon'], row['lat'])\n",
    "\n",
    "    if (tile_bounds['west'] <= row['lon'] <= tile_bounds['east'] and\n",
    "            tile_bounds['south'] <= row['lat'] <= tile_bounds['north']):\n",
    "\n",
    "        # 计算点在图像上的位置\n",
    "        x = int((row['lon'] - tile_bounds['west']) / (tile_bounds['east'] - tile_bounds['west']) * (img_size - 1))\n",
    "        y = int((tile_bounds['north'] - row['lat']) / (tile_bounds['north'] - tile_bounds['south']) * (img_size - 1))\n",
    "\n",
    "        # 设置对应位置为白色（255）\n",
    "        binary_image[y, x] = 255\n",
    "\n",
    "# 保存图像\n",
    "cv2.imwrite('save_images/binary_image.png', binary_image)\n"
   ]
  },
  {
   "cell_type": "code",
   "execution_count": null,
   "metadata": {},
   "outputs": [],
   "source": [
    "\n",
    "\n"
   ]
  }
 ],
 "metadata": {
  "kernelspec": {
   "display_name": "dev",
   "language": "python",
   "name": "python3"
  },
  "language_info": {
   "codemirror_mode": {
    "name": "ipython",
    "version": 3
   },
   "file_extension": ".py",
   "mimetype": "text/x-python",
   "name": "python",
   "nbconvert_exporter": "python",
   "pygments_lexer": "ipython3",
   "version": "3.12.3"
  }
 },
 "nbformat": 4,
 "nbformat_minor": 2
}
