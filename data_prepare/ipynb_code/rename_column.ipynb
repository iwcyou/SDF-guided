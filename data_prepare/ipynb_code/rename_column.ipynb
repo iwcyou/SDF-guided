{
 "cells": [
  {
   "cell_type": "markdown",
   "metadata": {},
   "source": [
    "# Rename columns for GPS data"
   ]
  },
  {
   "cell_type": "code",
   "execution_count": 7,
   "metadata": {},
   "outputs": [
    {
     "data": {
      "text/plain": [
       "['GPS_bus_1.0.pkl', 'GPS_bus_2.0.pkl']"
      ]
     },
     "execution_count": 7,
     "metadata": {},
     "output_type": "execute_result"
    }
   ],
   "source": [
    "import pandas as pd\n",
    "import pickle\n",
    "from tqdm import tqdm\n",
    "import os\n",
    "\n",
    "#bus\n",
    "file_path = '../../datasets/GPS_data/bus'\n",
    "file_list = os.listdir(file_path)\n",
    "file_list"
   ]
  },
  {
   "cell_type": "code",
   "execution_count": 8,
   "metadata": {},
   "outputs": [
    {
     "name": "stderr",
     "output_type": "stream",
     "text": [
      "GPS_bus_2.0.pkl: 100%|██████████| 2/2 [31:07<00:00, 933.97s/it]"
     ]
    },
    {
     "name": "stdout",
     "output_type": "stream",
     "text": [
      "done\n"
     ]
    },
    {
     "name": "stderr",
     "output_type": "stream",
     "text": [
      "\n"
     ]
    }
   ],
   "source": [
    "iter = tqdm(file_list)\n",
    "for file in iter:\n",
    "    iter.set_description(file)\n",
    "    with open(os.path.join(file_path, file), 'rb') as f:\n",
    "        data = pickle.load(f)\n",
    "    #rename the columns\n",
    "    data = data.rename(columns={'systime':'time', 'carID':'id', 'direction':'angle'})\n",
    "    #re arrange the columns\n",
    "    data = data[['id', 'time', 'lon', 'lat', 'angle', 'speed', 'device', 'dspeed', 'mileage']]\n",
    "    with open(os.path.join(file_path, file), 'wb') as f:\n",
    "        pickle.dump(data, f)\n",
    "print('done')"
   ]
  },
  {
   "cell_type": "code",
   "execution_count": 9,
   "metadata": {},
   "outputs": [
    {
     "data": {
      "text/plain": [
       "['GPS_taxi.pkl', 'GPS_taxi_2.0.pkl']"
      ]
     },
     "execution_count": 9,
     "metadata": {},
     "output_type": "execute_result"
    }
   ],
   "source": [
    "import pandas as pd\n",
    "import pickle\n",
    "from tqdm import tqdm\n",
    "import os\n",
    "\n",
    "#taxi\n",
    "file_path = '../../datasets/GPS_data/taxi'\n",
    "file_list = os.listdir(file_path)\n",
    "file_list"
   ]
  },
  {
   "cell_type": "code",
   "execution_count": 10,
   "metadata": {},
   "outputs": [
    {
     "name": "stderr",
     "output_type": "stream",
     "text": [
      "GPS_taxi_2.0.pkl: 100%|██████████| 2/2 [09:38<00:00, 289.13s/it]"
     ]
    },
    {
     "name": "stdout",
     "output_type": "stream",
     "text": [
      "done\n"
     ]
    },
    {
     "name": "stderr",
     "output_type": "stream",
     "text": [
      "\n"
     ]
    }
   ],
   "source": [
    "iter = tqdm(file_list)\n",
    "for file in iter:\n",
    "    iter.set_description(file)\n",
    "    with open(os.path.join(file_path, file), 'rb') as f:\n",
    "        data = pickle.load(f)\n",
    "    #rename the columns\n",
    "    data = data.rename(columns={'direction':'angle'})\n",
    "    #re arrange the columns\n",
    "    data = data[['id', 'time', 'lon', 'lat', 'angle', 'speed',]]\n",
    "    with open(os.path.join(file_path, file), 'wb') as f:\n",
    "        pickle.dump(data, f)\n",
    "print('done')"
   ]
  }
 ],
 "metadata": {
  "kernelspec": {
   "display_name": "dev",
   "language": "python",
   "name": "python3"
  },
  "language_info": {
   "codemirror_mode": {
    "name": "ipython",
    "version": 3
   },
   "file_extension": ".py",
   "mimetype": "text/x-python",
   "name": "python",
   "nbconvert_exporter": "python",
   "pygments_lexer": "ipython3",
   "version": "3.12.4"
  }
 },
 "nbformat": 4,
 "nbformat_minor": 2
}
